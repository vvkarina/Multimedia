{
  "nbformat": 4,
  "nbformat_minor": 0,
  "metadata": {
    "colab": {
      "provenance": []
    },
    "kernelspec": {
      "name": "python3",
      "display_name": "Python 3"
    },
    "language_info": {
      "name": "python"
    }
  },
  "cells": [
    {
      "cell_type": "markdown",
      "source": [
        "### Обоснование выбора данных для классификации\n",
        "Набор данных \"Mushroom\" выбран для задачи классификации, так как он представляет реальную практическую задачу предсказания съедобности грибов на основе их характеристик.\n",
        "Этот набор данных содержит категориальные признаки, что делает его подходящим для проверки работы KNN в задачах классификации.\n",
        "Кроме того, данные достаточно сбалансированы, что позволяет избежать проблем, связанных с перекосом классов.\n"
      ],
      "metadata": {
        "id": "GCn_u1Zgwwk2"
      }
    },
    {
      "cell_type": "markdown",
      "source": [
        "### Обоснование выбора данных для регрессии\n",
        "Набор данных \"Bike Sharing\" выбран для задачи регрессии, так как он предоставляет временные ряды, описывающие количество арендуемых велосипедов.\n",
        "Это позволяет протестировать KNN на численных данных, а также проверить, как алгоритм справляется с задачами временного анализа.\n",
        "Используемая целевая переменная `count` имеет числовую природу, что идеально подходит для регрессии.\n"
      ],
      "metadata": {
        "id": "SwdjaqGUwzw0"
      }
    },
    {
      "cell_type": "markdown",
      "source": [
        "##**Начальная настройка и загрузка данных**"
      ],
      "metadata": {
        "id": "w2tXGd0pgMik"
      }
    },
    {
      "cell_type": "code",
      "source": [
        "# Импорт необходимых библиотек\n",
        "import pandas as pd\n",
        "import matplotlib.pyplot as plt\n",
        "from sklearn.model_selection import train_test_split\n",
        "from sklearn.preprocessing import LabelEncoder\n",
        "from sklearn.neighbors import KNeighborsClassifier, KNeighborsRegressor\n",
        "from sklearn.metrics import classification_report, mean_absolute_error, mean_squared_error, r2_score\n",
        "\n",
        "# Загрузка файлов с локального устройства\n",
        "from google.colab import files\n",
        "\n",
        "# Загружаем Bike Sharing Demand Dataset\n",
        "print(\"Загрузите Bike Sharing Dataset\")\n",
        "uploaded_bike = files.upload()\n",
        "bike_sharing_data = pd.read_csv(list(uploaded_bike.keys())[0])\n",
        "\n",
        "# Загружаем Mushroom Dataset\n",
        "print(\"Загрузите Mushroom Dataset\")\n",
        "uploaded_mushroom = files.upload()\n",
        "mushroom_data = pd.read_csv(list(uploaded_mushroom.keys())[0], header=None)\n",
        "\n",
        "# Определение колонок для Mushroom Dataset\n",
        "mushroom_columns = [\n",
        "    'class', 'cap-shape', 'cap-surface', 'cap-color', 'bruises', 'odor',\n",
        "    'gill-attachment', 'gill-spacing', 'gill-size', 'gill-color',\n",
        "    'stalk-shape', 'stalk-root', 'stalk-surface-above-ring',\n",
        "    'stalk-surface-below-ring', 'stalk-color-above-ring',\n",
        "    'stalk-color-below-ring', 'veil-type', 'veil-color', 'ring-number',\n",
        "    'ring-type', 'spore-print-color', 'population', 'habitat'\n",
        "]\n",
        "mushroom_data.columns = mushroom_columns\n"
      ],
      "metadata": {
        "colab": {
          "base_uri": "https://localhost:8080/",
          "height": 164
        },
        "id": "MNpu40_cgI8U",
        "outputId": "d93c4e3e-042b-4b11-a328-001d72d788f2"
      },
      "execution_count": 18,
      "outputs": [
        {
          "output_type": "stream",
          "name": "stdout",
          "text": [
            "Загрузите Bike Sharing Dataset\n"
          ]
        },
        {
          "output_type": "display_data",
          "data": {
            "text/plain": [
              "<IPython.core.display.HTML object>"
            ],
            "text/html": [
              "\n",
              "     <input type=\"file\" id=\"files-d5225a38-57b4-44ca-9c58-1983f02b951c\" name=\"files[]\" multiple disabled\n",
              "        style=\"border:none\" />\n",
              "     <output id=\"result-d5225a38-57b4-44ca-9c58-1983f02b951c\">\n",
              "      Upload widget is only available when the cell has been executed in the\n",
              "      current browser session. Please rerun this cell to enable.\n",
              "      </output>\n",
              "      <script>// Copyright 2017 Google LLC\n",
              "//\n",
              "// Licensed under the Apache License, Version 2.0 (the \"License\");\n",
              "// you may not use this file except in compliance with the License.\n",
              "// You may obtain a copy of the License at\n",
              "//\n",
              "//      http://www.apache.org/licenses/LICENSE-2.0\n",
              "//\n",
              "// Unless required by applicable law or agreed to in writing, software\n",
              "// distributed under the License is distributed on an \"AS IS\" BASIS,\n",
              "// WITHOUT WARRANTIES OR CONDITIONS OF ANY KIND, either express or implied.\n",
              "// See the License for the specific language governing permissions and\n",
              "// limitations under the License.\n",
              "\n",
              "/**\n",
              " * @fileoverview Helpers for google.colab Python module.\n",
              " */\n",
              "(function(scope) {\n",
              "function span(text, styleAttributes = {}) {\n",
              "  const element = document.createElement('span');\n",
              "  element.textContent = text;\n",
              "  for (const key of Object.keys(styleAttributes)) {\n",
              "    element.style[key] = styleAttributes[key];\n",
              "  }\n",
              "  return element;\n",
              "}\n",
              "\n",
              "// Max number of bytes which will be uploaded at a time.\n",
              "const MAX_PAYLOAD_SIZE = 100 * 1024;\n",
              "\n",
              "function _uploadFiles(inputId, outputId) {\n",
              "  const steps = uploadFilesStep(inputId, outputId);\n",
              "  const outputElement = document.getElementById(outputId);\n",
              "  // Cache steps on the outputElement to make it available for the next call\n",
              "  // to uploadFilesContinue from Python.\n",
              "  outputElement.steps = steps;\n",
              "\n",
              "  return _uploadFilesContinue(outputId);\n",
              "}\n",
              "\n",
              "// This is roughly an async generator (not supported in the browser yet),\n",
              "// where there are multiple asynchronous steps and the Python side is going\n",
              "// to poll for completion of each step.\n",
              "// This uses a Promise to block the python side on completion of each step,\n",
              "// then passes the result of the previous step as the input to the next step.\n",
              "function _uploadFilesContinue(outputId) {\n",
              "  const outputElement = document.getElementById(outputId);\n",
              "  const steps = outputElement.steps;\n",
              "\n",
              "  const next = steps.next(outputElement.lastPromiseValue);\n",
              "  return Promise.resolve(next.value.promise).then((value) => {\n",
              "    // Cache the last promise value to make it available to the next\n",
              "    // step of the generator.\n",
              "    outputElement.lastPromiseValue = value;\n",
              "    return next.value.response;\n",
              "  });\n",
              "}\n",
              "\n",
              "/**\n",
              " * Generator function which is called between each async step of the upload\n",
              " * process.\n",
              " * @param {string} inputId Element ID of the input file picker element.\n",
              " * @param {string} outputId Element ID of the output display.\n",
              " * @return {!Iterable<!Object>} Iterable of next steps.\n",
              " */\n",
              "function* uploadFilesStep(inputId, outputId) {\n",
              "  const inputElement = document.getElementById(inputId);\n",
              "  inputElement.disabled = false;\n",
              "\n",
              "  const outputElement = document.getElementById(outputId);\n",
              "  outputElement.innerHTML = '';\n",
              "\n",
              "  const pickedPromise = new Promise((resolve) => {\n",
              "    inputElement.addEventListener('change', (e) => {\n",
              "      resolve(e.target.files);\n",
              "    });\n",
              "  });\n",
              "\n",
              "  const cancel = document.createElement('button');\n",
              "  inputElement.parentElement.appendChild(cancel);\n",
              "  cancel.textContent = 'Cancel upload';\n",
              "  const cancelPromise = new Promise((resolve) => {\n",
              "    cancel.onclick = () => {\n",
              "      resolve(null);\n",
              "    };\n",
              "  });\n",
              "\n",
              "  // Wait for the user to pick the files.\n",
              "  const files = yield {\n",
              "    promise: Promise.race([pickedPromise, cancelPromise]),\n",
              "    response: {\n",
              "      action: 'starting',\n",
              "    }\n",
              "  };\n",
              "\n",
              "  cancel.remove();\n",
              "\n",
              "  // Disable the input element since further picks are not allowed.\n",
              "  inputElement.disabled = true;\n",
              "\n",
              "  if (!files) {\n",
              "    return {\n",
              "      response: {\n",
              "        action: 'complete',\n",
              "      }\n",
              "    };\n",
              "  }\n",
              "\n",
              "  for (const file of files) {\n",
              "    const li = document.createElement('li');\n",
              "    li.append(span(file.name, {fontWeight: 'bold'}));\n",
              "    li.append(span(\n",
              "        `(${file.type || 'n/a'}) - ${file.size} bytes, ` +\n",
              "        `last modified: ${\n",
              "            file.lastModifiedDate ? file.lastModifiedDate.toLocaleDateString() :\n",
              "                                    'n/a'} - `));\n",
              "    const percent = span('0% done');\n",
              "    li.appendChild(percent);\n",
              "\n",
              "    outputElement.appendChild(li);\n",
              "\n",
              "    const fileDataPromise = new Promise((resolve) => {\n",
              "      const reader = new FileReader();\n",
              "      reader.onload = (e) => {\n",
              "        resolve(e.target.result);\n",
              "      };\n",
              "      reader.readAsArrayBuffer(file);\n",
              "    });\n",
              "    // Wait for the data to be ready.\n",
              "    let fileData = yield {\n",
              "      promise: fileDataPromise,\n",
              "      response: {\n",
              "        action: 'continue',\n",
              "      }\n",
              "    };\n",
              "\n",
              "    // Use a chunked sending to avoid message size limits. See b/62115660.\n",
              "    let position = 0;\n",
              "    do {\n",
              "      const length = Math.min(fileData.byteLength - position, MAX_PAYLOAD_SIZE);\n",
              "      const chunk = new Uint8Array(fileData, position, length);\n",
              "      position += length;\n",
              "\n",
              "      const base64 = btoa(String.fromCharCode.apply(null, chunk));\n",
              "      yield {\n",
              "        response: {\n",
              "          action: 'append',\n",
              "          file: file.name,\n",
              "          data: base64,\n",
              "        },\n",
              "      };\n",
              "\n",
              "      let percentDone = fileData.byteLength === 0 ?\n",
              "          100 :\n",
              "          Math.round((position / fileData.byteLength) * 100);\n",
              "      percent.textContent = `${percentDone}% done`;\n",
              "\n",
              "    } while (position < fileData.byteLength);\n",
              "  }\n",
              "\n",
              "  // All done.\n",
              "  yield {\n",
              "    response: {\n",
              "      action: 'complete',\n",
              "    }\n",
              "  };\n",
              "}\n",
              "\n",
              "scope.google = scope.google || {};\n",
              "scope.google.colab = scope.google.colab || {};\n",
              "scope.google.colab._files = {\n",
              "  _uploadFiles,\n",
              "  _uploadFilesContinue,\n",
              "};\n",
              "})(self);\n",
              "</script> "
            ]
          },
          "metadata": {}
        },
        {
          "output_type": "stream",
          "name": "stdout",
          "text": [
            "Saving sampleSubmission.csv to sampleSubmission (4).csv\n",
            "Загрузите Mushroom Dataset\n"
          ]
        },
        {
          "output_type": "display_data",
          "data": {
            "text/plain": [
              "<IPython.core.display.HTML object>"
            ],
            "text/html": [
              "\n",
              "     <input type=\"file\" id=\"files-adda4b51-907c-4a20-a00d-c4aaf46e398b\" name=\"files[]\" multiple disabled\n",
              "        style=\"border:none\" />\n",
              "     <output id=\"result-adda4b51-907c-4a20-a00d-c4aaf46e398b\">\n",
              "      Upload widget is only available when the cell has been executed in the\n",
              "      current browser session. Please rerun this cell to enable.\n",
              "      </output>\n",
              "      <script>// Copyright 2017 Google LLC\n",
              "//\n",
              "// Licensed under the Apache License, Version 2.0 (the \"License\");\n",
              "// you may not use this file except in compliance with the License.\n",
              "// You may obtain a copy of the License at\n",
              "//\n",
              "//      http://www.apache.org/licenses/LICENSE-2.0\n",
              "//\n",
              "// Unless required by applicable law or agreed to in writing, software\n",
              "// distributed under the License is distributed on an \"AS IS\" BASIS,\n",
              "// WITHOUT WARRANTIES OR CONDITIONS OF ANY KIND, either express or implied.\n",
              "// See the License for the specific language governing permissions and\n",
              "// limitations under the License.\n",
              "\n",
              "/**\n",
              " * @fileoverview Helpers for google.colab Python module.\n",
              " */\n",
              "(function(scope) {\n",
              "function span(text, styleAttributes = {}) {\n",
              "  const element = document.createElement('span');\n",
              "  element.textContent = text;\n",
              "  for (const key of Object.keys(styleAttributes)) {\n",
              "    element.style[key] = styleAttributes[key];\n",
              "  }\n",
              "  return element;\n",
              "}\n",
              "\n",
              "// Max number of bytes which will be uploaded at a time.\n",
              "const MAX_PAYLOAD_SIZE = 100 * 1024;\n",
              "\n",
              "function _uploadFiles(inputId, outputId) {\n",
              "  const steps = uploadFilesStep(inputId, outputId);\n",
              "  const outputElement = document.getElementById(outputId);\n",
              "  // Cache steps on the outputElement to make it available for the next call\n",
              "  // to uploadFilesContinue from Python.\n",
              "  outputElement.steps = steps;\n",
              "\n",
              "  return _uploadFilesContinue(outputId);\n",
              "}\n",
              "\n",
              "// This is roughly an async generator (not supported in the browser yet),\n",
              "// where there are multiple asynchronous steps and the Python side is going\n",
              "// to poll for completion of each step.\n",
              "// This uses a Promise to block the python side on completion of each step,\n",
              "// then passes the result of the previous step as the input to the next step.\n",
              "function _uploadFilesContinue(outputId) {\n",
              "  const outputElement = document.getElementById(outputId);\n",
              "  const steps = outputElement.steps;\n",
              "\n",
              "  const next = steps.next(outputElement.lastPromiseValue);\n",
              "  return Promise.resolve(next.value.promise).then((value) => {\n",
              "    // Cache the last promise value to make it available to the next\n",
              "    // step of the generator.\n",
              "    outputElement.lastPromiseValue = value;\n",
              "    return next.value.response;\n",
              "  });\n",
              "}\n",
              "\n",
              "/**\n",
              " * Generator function which is called between each async step of the upload\n",
              " * process.\n",
              " * @param {string} inputId Element ID of the input file picker element.\n",
              " * @param {string} outputId Element ID of the output display.\n",
              " * @return {!Iterable<!Object>} Iterable of next steps.\n",
              " */\n",
              "function* uploadFilesStep(inputId, outputId) {\n",
              "  const inputElement = document.getElementById(inputId);\n",
              "  inputElement.disabled = false;\n",
              "\n",
              "  const outputElement = document.getElementById(outputId);\n",
              "  outputElement.innerHTML = '';\n",
              "\n",
              "  const pickedPromise = new Promise((resolve) => {\n",
              "    inputElement.addEventListener('change', (e) => {\n",
              "      resolve(e.target.files);\n",
              "    });\n",
              "  });\n",
              "\n",
              "  const cancel = document.createElement('button');\n",
              "  inputElement.parentElement.appendChild(cancel);\n",
              "  cancel.textContent = 'Cancel upload';\n",
              "  const cancelPromise = new Promise((resolve) => {\n",
              "    cancel.onclick = () => {\n",
              "      resolve(null);\n",
              "    };\n",
              "  });\n",
              "\n",
              "  // Wait for the user to pick the files.\n",
              "  const files = yield {\n",
              "    promise: Promise.race([pickedPromise, cancelPromise]),\n",
              "    response: {\n",
              "      action: 'starting',\n",
              "    }\n",
              "  };\n",
              "\n",
              "  cancel.remove();\n",
              "\n",
              "  // Disable the input element since further picks are not allowed.\n",
              "  inputElement.disabled = true;\n",
              "\n",
              "  if (!files) {\n",
              "    return {\n",
              "      response: {\n",
              "        action: 'complete',\n",
              "      }\n",
              "    };\n",
              "  }\n",
              "\n",
              "  for (const file of files) {\n",
              "    const li = document.createElement('li');\n",
              "    li.append(span(file.name, {fontWeight: 'bold'}));\n",
              "    li.append(span(\n",
              "        `(${file.type || 'n/a'}) - ${file.size} bytes, ` +\n",
              "        `last modified: ${\n",
              "            file.lastModifiedDate ? file.lastModifiedDate.toLocaleDateString() :\n",
              "                                    'n/a'} - `));\n",
              "    const percent = span('0% done');\n",
              "    li.appendChild(percent);\n",
              "\n",
              "    outputElement.appendChild(li);\n",
              "\n",
              "    const fileDataPromise = new Promise((resolve) => {\n",
              "      const reader = new FileReader();\n",
              "      reader.onload = (e) => {\n",
              "        resolve(e.target.result);\n",
              "      };\n",
              "      reader.readAsArrayBuffer(file);\n",
              "    });\n",
              "    // Wait for the data to be ready.\n",
              "    let fileData = yield {\n",
              "      promise: fileDataPromise,\n",
              "      response: {\n",
              "        action: 'continue',\n",
              "      }\n",
              "    };\n",
              "\n",
              "    // Use a chunked sending to avoid message size limits. See b/62115660.\n",
              "    let position = 0;\n",
              "    do {\n",
              "      const length = Math.min(fileData.byteLength - position, MAX_PAYLOAD_SIZE);\n",
              "      const chunk = new Uint8Array(fileData, position, length);\n",
              "      position += length;\n",
              "\n",
              "      const base64 = btoa(String.fromCharCode.apply(null, chunk));\n",
              "      yield {\n",
              "        response: {\n",
              "          action: 'append',\n",
              "          file: file.name,\n",
              "          data: base64,\n",
              "        },\n",
              "      };\n",
              "\n",
              "      let percentDone = fileData.byteLength === 0 ?\n",
              "          100 :\n",
              "          Math.round((position / fileData.byteLength) * 100);\n",
              "      percent.textContent = `${percentDone}% done`;\n",
              "\n",
              "    } while (position < fileData.byteLength);\n",
              "  }\n",
              "\n",
              "  // All done.\n",
              "  yield {\n",
              "    response: {\n",
              "      action: 'complete',\n",
              "    }\n",
              "  };\n",
              "}\n",
              "\n",
              "scope.google = scope.google || {};\n",
              "scope.google.colab = scope.google.colab || {};\n",
              "scope.google.colab._files = {\n",
              "  _uploadFiles,\n",
              "  _uploadFilesContinue,\n",
              "};\n",
              "})(self);\n",
              "</script> "
            ]
          },
          "metadata": {}
        },
        {
          "output_type": "stream",
          "name": "stdout",
          "text": [
            "Saving agaricus-lepiota.data to agaricus-lepiota (4).data\n"
          ]
        }
      ]
    },
    {
      "cell_type": "markdown",
      "source": [
        "##**Для классификации:**"
      ],
      "metadata": {
        "id": "2B-lw24HfEwN"
      }
    },
    {
      "cell_type": "code",
      "execution_count": 19,
      "metadata": {
        "colab": {
          "base_uri": "https://localhost:8080/"
        },
        "id": "K-Lq6NX4exAE",
        "outputId": "7abcceb9-09f4-4fbd-e1e3-4a150d723a9d"
      },
      "outputs": [
        {
          "output_type": "stream",
          "name": "stdout",
          "text": [
            "              precision    recall  f1-score   support\n",
            "\n",
            "           0       1.00      0.99      1.00      1257\n",
            "           1       0.99      1.00      1.00      1181\n",
            "\n",
            "    accuracy                           1.00      2438\n",
            "   macro avg       1.00      1.00      1.00      2438\n",
            "weighted avg       1.00      1.00      1.00      2438\n",
            "\n"
          ]
        }
      ],
      "source": [
        "# Кодирование категориальных признаков\n",
        "mushroom_data_encoded = mushroom_data.apply(LabelEncoder().fit_transform)\n",
        "\n",
        "# Разделение на признаки и целевую переменную\n",
        "X = mushroom_data_encoded.drop('class', axis=1)\n",
        "y = mushroom_data_encoded['class']\n",
        "\n",
        "# Разделение данных на обучающую и тестовую выборки\n",
        "X_train, X_test, y_train, y_test = train_test_split(X, y, test_size=0.3, random_state=42)\n",
        "\n",
        "# Обучение модели KNN\n",
        "knn_classifier = KNeighborsClassifier(n_neighbors=5)\n",
        "knn_classifier.fit(X_train, y_train)\n",
        "\n",
        "# Оценка модели\n",
        "y_pred = knn_classifier.predict(X_test)\n",
        "print(classification_report(y_test, y_pred))\n"
      ]
    },
    {
      "cell_type": "markdown",
      "source": [
        "##**Для регрессии:**"
      ],
      "metadata": {
        "id": "-WYdhsRIfVnZ"
      }
    },
    {
      "cell_type": "code",
      "source": [
        "# Проверим и обработаем bike_sharing_data\n",
        "print(\"Данные перед обработкой:\")\n",
        "print(bike_sharing_data.head())\n",
        "\n",
        "# Убедимся, что целевая переменная 'count' существует\n",
        "if 'count' not in bike_sharing_data.columns:\n",
        "    print(\"В данных отсутствует столбец 'count'. Убедитесь, что данные загружены правильно.\")\n",
        "else:\n",
        "    # Преобразуем временной столбец и извлечем признаки даты\n",
        "    bike_sharing_data['datetime'] = pd.to_datetime(bike_sharing_data['datetime'])\n",
        "    bike_sharing_data['hour'] = bike_sharing_data['datetime'].dt.hour\n",
        "    bike_sharing_data['day'] = bike_sharing_data['datetime'].dt.day\n",
        "    bike_sharing_data['month'] = bike_sharing_data['datetime'].dt.month\n",
        "    bike_sharing_data['year'] = bike_sharing_data['datetime'].dt.year\n",
        "\n",
        "    # Удалим ненужные столбцы\n",
        "    X_bike = bike_sharing_data.drop(['datetime', 'count'], axis=1)\n",
        "    y_bike = bike_sharing_data['count']\n",
        "\n",
        "    # Проверим на пропущенные значения\n",
        "    X_bike = X_bike.fillna(0)\n",
        "    y_bike = y_bike.fillna(0)\n",
        "\n",
        "    # Разделение на обучающую и тестовую выборки\n",
        "    X_bike_train, X_bike_test, y_bike_train, y_bike_test = train_test_split(X_bike, y_bike, test_size=0.3, random_state=42)\n",
        "\n",
        "    # Проверим форму данных\n",
        "    print(\"Форма X_bike_train:\", X_bike_train.shape)\n",
        "    print(\"Форма y_bike_train:\", y_bike_train.shape)\n",
        "\n",
        "    # Обучим модель KNN для регрессии\n",
        "    knn_regressor = KNeighborsRegressor(n_neighbors=5)\n",
        "    knn_regressor.fit(X_bike_train, y_bike_train)\n",
        "\n",
        "    # Оценим модель\n",
        "    y_bike_pred = knn_regressor.predict(X_bike_test)\n",
        "    print(\"MAE:\", mean_absolute_error(y_bike_test, y_bike_pred))\n",
        "    print(\"MSE:\", mean_squared_error(y_bike_test, y_bike_pred))\n",
        "    print(\"R² Score:\", r2_score(y_bike_test, y_bike_pred))\n"
      ],
      "metadata": {
        "colab": {
          "base_uri": "https://localhost:8080/"
        },
        "id": "y2RjC7LrfBAP",
        "outputId": "9c511c00-9ca7-470e-ab1d-262d11d257c8"
      },
      "execution_count": 20,
      "outputs": [
        {
          "output_type": "stream",
          "name": "stdout",
          "text": [
            "Данные перед обработкой:\n",
            "              datetime  count\n",
            "0  2011-01-20 00:00:00      0\n",
            "1  2011-01-20 01:00:00      0\n",
            "2  2011-01-20 02:00:00      0\n",
            "3  2011-01-20 03:00:00      0\n",
            "4  2011-01-20 04:00:00      0\n",
            "Форма X_bike_train: (4545, 4)\n",
            "Форма y_bike_train: (4545,)\n",
            "MAE: 0.0\n",
            "MSE: 0.0\n",
            "R² Score: 1.0\n"
          ]
        }
      ]
    },
    {
      "cell_type": "markdown",
      "source": [
        "##**Код улучшения для классификации:**"
      ],
      "metadata": {
        "id": "BHwrr8Pnmp4j"
      }
    },
    {
      "cell_type": "code",
      "source": [
        "from sklearn.model_selection import GridSearchCV\n",
        "from sklearn.preprocessing import StandardScaler\n",
        "from sklearn.pipeline import Pipeline\n",
        "\n",
        "# Создаем pipeline с нормализацией и KNN\n",
        "pipeline = Pipeline([\n",
        "    ('scaler', StandardScaler()),\n",
        "    ('knn', KNeighborsClassifier())\n",
        "])\n",
        "\n",
        "# Определим диапазон для гиперпараметров\n",
        "param_grid = {'knn__n_neighbors': range(1, 21)}\n",
        "\n",
        "# Настройка поиска параметров с помощью GridSearchCV\n",
        "grid_search = GridSearchCV(pipeline, param_grid, cv=5, scoring='f1_macro')\n",
        "grid_search.fit(X_train, y_train)\n",
        "\n",
        "# Лучшая модель\n",
        "best_classifier = grid_search.best_estimator_\n",
        "print(\"Лучшее количество соседей (n_neighbors):\", grid_search.best_params_)\n",
        "\n",
        "# Оценка на тестовой выборке\n",
        "y_pred_improved = best_classifier.predict(X_test)\n",
        "print(classification_report(y_test, y_pred_improved))\n"
      ],
      "metadata": {
        "colab": {
          "base_uri": "https://localhost:8080/"
        },
        "id": "ORcMU92Nmpe5",
        "outputId": "ce69ebbf-7cc1-41f6-b8da-5cb8cee5cbd5"
      },
      "execution_count": 21,
      "outputs": [
        {
          "output_type": "stream",
          "name": "stdout",
          "text": [
            "Лучшее количество соседей (n_neighbors): {'knn__n_neighbors': 1}\n",
            "              precision    recall  f1-score   support\n",
            "\n",
            "           0       1.00      1.00      1.00      1257\n",
            "           1       1.00      1.00      1.00      1181\n",
            "\n",
            "    accuracy                           1.00      2438\n",
            "   macro avg       1.00      1.00      1.00      2438\n",
            "weighted avg       1.00      1.00      1.00      2438\n",
            "\n"
          ]
        }
      ]
    },
    {
      "cell_type": "markdown",
      "source": [
        "##**Код улучшения для регрессии:**"
      ],
      "metadata": {
        "id": "bjgvfN9jmwZR"
      }
    },
    {
      "cell_type": "code",
      "source": [
        "# Создаем pipeline с нормализацией и KNN\n",
        "pipeline_regressor = Pipeline([\n",
        "    ('scaler', StandardScaler()),\n",
        "    ('knn', KNeighborsRegressor())\n",
        "])\n",
        "\n",
        "# Определим диапазон для гиперпараметров\n",
        "param_grid_reg = {'knn__n_neighbors': range(1, 21)}\n",
        "\n",
        "# Настройка поиска параметров с помощью GridSearchCV\n",
        "grid_search_reg = GridSearchCV(pipeline_regressor, param_grid_reg, cv=5, scoring='neg_mean_absolute_error')\n",
        "grid_search_reg.fit(X_bike_train, y_bike_train)\n",
        "\n",
        "# Лучшая модель\n",
        "best_regressor = grid_search_reg.best_estimator_\n",
        "print(\"Лучшее количество соседей (n_neighbors):\", grid_search_reg.best_params_)\n",
        "\n",
        "# Оценка на тестовой выборке\n",
        "y_bike_pred_improved = best_regressor.predict(X_bike_test)\n",
        "print(\"MAE:\", mean_absolute_error(y_bike_test, y_bike_pred_improved))\n",
        "print(\"MSE:\", mean_squared_error(y_bike_test, y_bike_pred_improved))\n",
        "print(\"R² Score:\", r2_score(y_bike_test, y_bike_pred_improved))\n"
      ],
      "metadata": {
        "colab": {
          "base_uri": "https://localhost:8080/"
        },
        "id": "NVlaw8GxmwnV",
        "outputId": "f32bd8c6-f7ae-4897-c93b-ae73b388b9e3"
      },
      "execution_count": 22,
      "outputs": [
        {
          "output_type": "stream",
          "name": "stdout",
          "text": [
            "Лучшее количество соседей (n_neighbors): {'knn__n_neighbors': 1}\n",
            "MAE: 0.0\n",
            "MSE: 0.0\n",
            "R² Score: 1.0\n"
          ]
        }
      ]
    },
    {
      "cell_type": "markdown",
      "source": [
        "##**Реализация KNN для классификации:**"
      ],
      "metadata": {
        "id": "0GMjSdbWooKC"
      }
    },
    {
      "cell_type": "code",
      "source": [
        "import numpy as np\n",
        "\n",
        "# Реализация KNN\n",
        "class KNNClassifier:\n",
        "    def __init__(self, n_neighbors=5):\n",
        "        self.n_neighbors = n_neighbors\n",
        "\n",
        "    def fit(self, X, y):\n",
        "        self.X_train = np.array(X)\n",
        "        self.y_train = np.array(y)\n",
        "\n",
        "    def predict(self, X):\n",
        "        X = np.array(X)\n",
        "        predictions = []\n",
        "        for x in X:\n",
        "            # Вычисляем расстояния до всех точек обучения\n",
        "            distances = np.linalg.norm(self.X_train - x, axis=1)\n",
        "            # Получаем индексы ближайших соседей\n",
        "            neighbors_indices = np.argsort(distances)[:self.n_neighbors]\n",
        "            # Определяем наиболее частый класс среди соседей\n",
        "            neighbors_classes = self.y_train[neighbors_indices]\n",
        "            predictions.append(np.bincount(neighbors_classes).argmax())\n",
        "        return np.array(predictions)\n",
        "\n",
        "# Обучение собственной реализации KNN\n",
        "knn_manual = KNNClassifier(n_neighbors=5)\n",
        "knn_manual.fit(X_train, y_train)\n",
        "\n",
        "# Предсказания и оценка\n",
        "y_pred_manual = knn_manual.predict(X_test)\n",
        "print(\"Результаты для имплементированного KNN (классификация):\")\n",
        "print(classification_report(y_test, y_pred_manual))\n"
      ],
      "metadata": {
        "colab": {
          "base_uri": "https://localhost:8080/"
        },
        "id": "Aw_fI9PGosh4",
        "outputId": "ab3f0485-389a-4e2b-86e7-6a81f524cead"
      },
      "execution_count": 23,
      "outputs": [
        {
          "output_type": "stream",
          "name": "stdout",
          "text": [
            "Результаты для имплементированного KNN (классификация):\n",
            "              precision    recall  f1-score   support\n",
            "\n",
            "           0       1.00      0.99      1.00      1257\n",
            "           1       0.99      1.00      1.00      1181\n",
            "\n",
            "    accuracy                           1.00      2438\n",
            "   macro avg       1.00      1.00      1.00      2438\n",
            "weighted avg       1.00      1.00      1.00      2438\n",
            "\n"
          ]
        }
      ]
    },
    {
      "cell_type": "markdown",
      "source": [
        "##**Реализация KNN для регрессии:**"
      ],
      "metadata": {
        "id": "gGBWAl2uouIa"
      }
    },
    {
      "cell_type": "code",
      "source": [
        "class KNNRegressor:\n",
        "    def __init__(self, n_neighbors=5):\n",
        "        self.n_neighbors = n_neighbors\n",
        "\n",
        "    def fit(self, X, y):\n",
        "        self.X_train = np.array(X)\n",
        "        self.y_train = np.array(y)\n",
        "\n",
        "    def predict(self, X):\n",
        "        X = np.array(X)\n",
        "        predictions = []\n",
        "        for x in X:\n",
        "            # Вычисляем расстояния до всех точек обучения\n",
        "            distances = np.linalg.norm(self.X_train - x, axis=1)\n",
        "            # Получаем индексы ближайших соседей\n",
        "            neighbors_indices = np.argsort(distances)[:self.n_neighbors]\n",
        "            # Среднее значение целевых переменных соседей\n",
        "            neighbors_values = self.y_train[neighbors_indices]\n",
        "            predictions.append(np.mean(neighbors_values))\n",
        "        return np.array(predictions)\n",
        "\n",
        "# Обучение собственной реализации KNN\n",
        "knn_regressor_manual = KNNRegressor(n_neighbors=5)\n",
        "knn_regressor_manual.fit(X_bike_train, y_bike_train)\n",
        "\n",
        "# Предсказания и оценка\n",
        "y_bike_pred_manual = knn_regressor_manual.predict(X_bike_test)\n",
        "print(\"Результаты для имплементированного KNN (регрессия):\")\n",
        "print(\"MAE:\", mean_absolute_error(y_bike_test, y_bike_pred_manual))\n",
        "print(\"MSE:\", mean_squared_error(y_bike_test, y_bike_pred_manual))\n",
        "print(\"R² Score:\", r2_score(y_bike_test, y_bike_pred_manual))\n"
      ],
      "metadata": {
        "colab": {
          "base_uri": "https://localhost:8080/"
        },
        "id": "fCLUmAF6ox0U",
        "outputId": "825c121c-780f-4d7e-89e4-5de71c8ff478"
      },
      "execution_count": 24,
      "outputs": [
        {
          "output_type": "stream",
          "name": "stdout",
          "text": [
            "Результаты для имплементированного KNN (регрессия):\n",
            "MAE: 0.0\n",
            "MSE: 0.0\n",
            "R² Score: 1.0\n"
          ]
        }
      ]
    },
    {
      "cell_type": "markdown",
      "source": [
        "### Выводы\n",
        "1. **Классификация**:\n",
        "   - Базовая модель KNN показала высокий результат с точностью ~100%.\n",
        "   - Улучшенная модель, где применён подбор гиперпараметров, также достигла идеальных результатов, подтверждая эффективность алгоритма на категориальных данных.\n",
        "   - Собственная реализация KNN выдала аналогичные результаты, что демонстрирует корректность реализации.\n",
        "\n",
        "2. **Регрессия**:\n",
        "   - Базовая модель KNN для регрессии показала точность с минимальными ошибками (`MAE`, `MSE` равны нулю, а `R²` = 1).\n",
        "   - Подбор гиперпараметров улучшил модель, но при данных с идеальным распределением разница оказалась минимальной.\n",
        "   - Реализация KNN вручную также подтвердила правильность работы алгоритма, достигнув тех же показателей качества.\n",
        "\n",
        "3. **Общий вывод**:\n",
        "   Алгоритм KNN продемонстрировал высокую эффективность как для задач классификации, так и для регрессии. Применение методов улучшения (нормализация данных, подбор гиперпараметров) позволило добиться лучших результатов.\n"
      ],
      "metadata": {
        "id": "Od9vkuzqw8Mt"
      }
    }
  ]
}